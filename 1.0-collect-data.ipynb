{
 "cells": [
  {
   "cell_type": "markdown",
   "metadata": {},
   "source": [
    "# Thông tin về bộ dữ liệu và license từ tác giả\n",
    "## Context\n",
    "Music therapy, or MT, is the use of music to improve an individual's stress, mood, and overall mental health. MT is also recognized as an evidence-based practice, using music as a catalyst for \"happy\" hormones such as oxytocin.\n",
    "\n",
    "However, MT employs a wide range of different genres, varying from one organization to the next.\n",
    "\n",
    "The MxMH dataset aims to identify what, if any, correlations exist between an individual's music taste and their self-reported mental health. Ideally, these findings could contribute to a more informed application of MT or simply provide interesting sights about the mind.\n",
    "\n",
    "## Interpreting data\n",
    "### Block 0: Background\n",
    "Respondents answer generic questions focused on musical background and listening habits.\n",
    "\n",
    "### Block 1: Music genres\n",
    "Respondents rank how often they listen to 16 music genres, where they can select:\n",
    "\n",
    "- Never\n",
    "- Rarely\n",
    "- Sometimes\n",
    "- Very frequently\n",
    "### Block 2: Mental health\n",
    "Respondents rank Anxiety, Depression, Insomnia, and OCD on a scale of 0 to 10, where:\n",
    "\n",
    "- 0 - I do not experience this.\n",
    "- 10 - I experience this regularly, constantly/or to an extreme.\n",
    "Additional data that does not fall in these blocks may provide useful background information. See column descriptors.\n",
    "\n",
    "## Data collection\n",
    "Data collection was managed by @catherinerasgaitis via a Google Form. Respondents were not restricted by age or location.\n",
    "\n",
    "The form was posted in various Reddit forums, Discord servers, and social media platforms. Posters and \"business cards\" were also used to advertise the form in libraries, parks, and other public locations.\n",
    "\n",
    "The form was relatively brief so that respondents would be more likely finish the survey. \"Harder\" questions (such as BPM) were left optional for the same reason.\n",
    "\n",
    "View the EDA notebook."
   ]
  }
 ],
 "metadata": {
  "language_info": {
   "name": "python"
  }
 },
 "nbformat": 4,
 "nbformat_minor": 2
}
